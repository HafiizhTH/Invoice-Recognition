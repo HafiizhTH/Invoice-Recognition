{
 "cells": [
  {
   "cell_type": "code",
   "execution_count": 1,
   "metadata": {},
   "outputs": [],
   "source": [
    "import requests"
   ]
  },
  {
   "cell_type": "code",
   "execution_count": 2,
   "metadata": {},
   "outputs": [],
   "source": [
    "# URL API yang akan diakses\n",
    "url = \"http://localhost:8000/process-invoice/\""
   ]
  },
  {
   "cell_type": "code",
   "execution_count": 6,
   "metadata": {},
   "outputs": [],
   "source": [
    "file_path = \"./data/invoice1.png\""
   ]
  },
  {
   "cell_type": "code",
   "execution_count": 9,
   "metadata": {},
   "outputs": [],
   "source": [
    "# Membuka file dan mengirimkan request\n",
    "with open(file_path, \"rb\") as file:\n",
    "    files = {\"file\": file}\n",
    "    response = requests.post(url, files=files)"
   ]
  },
  {
   "cell_type": "code",
   "execution_count": 12,
   "metadata": {},
   "outputs": [
    {
     "name": "stdout",
     "output_type": "stream",
     "text": [
      "Request berhasil.\n",
      "JSON Response: {'data': [{'supplier': {'name': 'KakaKiky Media', 'address': 'Jln. Perdamaian Raya No. 6', 'phone': 6282219168068, 'email': 'kakakiky.id@gmail.com', 'website': 'https://www.kakakiky.id'}, 'invoice_number': 'INV-1', 'invoice_date': None, 'due_date': None, 'client': {'name': 'PT Inovasi Digital Plus', 'address': 'Jln. Perdamaian Raya No.7', 'phone': 6282211992233, 'email': 'adm.suratplus@gmail.com'}, 'items': [{'description': 'Desain Template Twibbon', 'unit_price': 50000, 'quantity': 1, 'amount': 50000}, {'description': 'Desain Flyer', 'unit_price': 100000, 'quantity': 1, 'amount': 100000}], 'payment_method': {'account': '1929319239', 'account_name': 'M. Rizki Riswandi', 'bank_details': 'Bank Syariah Indonesia'}, 'totals': {'subtotal': 150000, 'revisi': 10000, 'discount': '5%', 'down_payment': 7500, 'total': 122500}}]}\n"
     ]
    }
   ],
   "source": [
    "# Mengecek status kode\n",
    "if response.status_code == 200:\n",
    "    print(\"Request berhasil.\")\n",
    "    try:\n",
    "        # Parsing JSON response\n",
    "        data = response.json()\n",
    "        print(\"JSON Response:\", data)\n",
    "    except ValueError:\n",
    "        print(\"Response bukan berupa JSON.\")\n",
    "else:\n",
    "    print(f\"Request gagal dengan status kode {response.status_code}.\")"
   ]
  },
  {
   "cell_type": "code",
   "execution_count": null,
   "metadata": {},
   "outputs": [],
   "source": []
  },
  {
   "cell_type": "code",
   "execution_count": null,
   "metadata": {},
   "outputs": [],
   "source": []
  },
  {
   "cell_type": "code",
   "execution_count": null,
   "metadata": {},
   "outputs": [],
   "source": []
  }
 ],
 "metadata": {
  "kernelspec": {
   "display_name": "base",
   "language": "python",
   "name": "python3"
  },
  "language_info": {
   "codemirror_mode": {
    "name": "ipython",
    "version": 3
   },
   "file_extension": ".py",
   "mimetype": "text/x-python",
   "name": "python",
   "nbconvert_exporter": "python",
   "pygments_lexer": "ipython3",
   "version": "3.11.4"
  },
  "orig_nbformat": 4
 },
 "nbformat": 4,
 "nbformat_minor": 2
}
